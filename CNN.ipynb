{
  "nbformat": 4,
  "nbformat_minor": 0,
  "metadata": {
    "colab": {
      "provenance": [],
      "authorship_tag": "ABX9TyNMG4+bETuRg/TvNjHFdMbz",
      "include_colab_link": true
    },
    "kernelspec": {
      "name": "python3",
      "display_name": "Python 3"
    },
    "language_info": {
      "name": "python"
    },
    "accelerator": "GPU",
    "gpuClass": "standard"
  },
  "cells": [
    {
      "cell_type": "markdown",
      "metadata": {
        "id": "view-in-github",
        "colab_type": "text"
      },
      "source": [
        "<a href=\"https://colab.research.google.com/github/bakanino/PHYS4016/blob/main/CNN.ipynb\" target=\"_parent\"><img src=\"https://colab.research.google.com/assets/colab-badge.svg\" alt=\"Open In Colab\"/></a>"
      ]
    },
    {
      "cell_type": "code",
      "source": [
        "from google.colab import drive\n",
        "drive.mount('/content/drive')"
      ],
      "metadata": {
        "colab": {
          "base_uri": "https://localhost:8080/"
        },
        "id": "kyKQAeZwwpVr",
        "outputId": "e4cfa22c-99b6-48a3-9a04-b8dc303e5a6a"
      },
      "execution_count": 3,
      "outputs": [
        {
          "output_type": "stream",
          "name": "stdout",
          "text": [
            "Drive already mounted at /content/drive; to attempt to forcibly remount, call drive.mount(\"/content/drive\", force_remount=True).\n"
          ]
        }
      ]
    },
    {
      "cell_type": "code",
      "execution_count": 4,
      "metadata": {
        "id": "8URazClOv8Hh"
      },
      "outputs": [],
      "source": [
        "import numpy as np\n",
        "import pandas as pd\n",
        "\n",
        "%matplotlib inline\n",
        "import matplotlib.pyplot as plt\n",
        "from mpl_toolkits.mplot3d import Axes3D"
      ]
    },
    {
      "cell_type": "code",
      "source": [
        "drive_path = '/content/drive/MyDrive/'\n",
        "X = np.load(drive_path+'X_kannada_MNIST_60K.npz')['arr_0']\n",
        "y = np.load(drive_path+'y_kannada_MNIST_60K.npz')['arr_0']"
      ],
      "metadata": {
        "id": "_Q49NiTKxCJq"
      },
      "execution_count": 68,
      "outputs": []
    },
    {
      "cell_type": "code",
      "source": [
        "X = X.reshape((-1, 28, 28, 1))"
      ],
      "metadata": {
        "id": "nQdZvoqYx8iQ"
      },
      "execution_count": 69,
      "outputs": []
    },
    {
      "cell_type": "code",
      "source": [
        "from sklearn.model_selection import train_test_split"
      ],
      "metadata": {
        "id": "Z8AbMQUyzyVK"
      },
      "execution_count": 70,
      "outputs": []
    },
    {
      "cell_type": "code",
      "source": [
        "X_train, X_test, y_train, y_test = train_test_split(X, y, test_size=0.2, shuffle=True,random_state=42)"
      ],
      "metadata": {
        "id": "9XXX2EnizPnx"
      },
      "execution_count": 71,
      "outputs": []
    },
    {
      "cell_type": "code",
      "source": [
        "X_train = X_train.reshape(X_train.shape[0],28,28,1).astype('float64')/255\n",
        "X_test = X_test.reshape(X_test.shape[0],28,28,1).astype('float64')/255"
      ],
      "metadata": {
        "id": "0E9AUleUzkzX"
      },
      "execution_count": 72,
      "outputs": []
    },
    {
      "cell_type": "code",
      "source": [
        "import keras\n",
        "from keras.layers import InputLayer, Conv2D, Flatten, Dense"
      ],
      "metadata": {
        "id": "tkEagNae0vXN"
      },
      "execution_count": 73,
      "outputs": []
    },
    {
      "cell_type": "code",
      "source": [
        "model = keras.Sequential()"
      ],
      "metadata": {
        "id": "HwDup8e-z7WL"
      },
      "execution_count": 74,
      "outputs": []
    },
    {
      "cell_type": "code",
      "source": [
        "model.add(InputLayer(X_train.shape[1:]))\n",
        "model.add(Conv2D(32, (3, 3), activation='relu'))\n",
        "model.add(Conv2D(32, (3, 3), activation='relu'))\n",
        "model.add(Flatten())\n",
        "model.add(Dense(50,activation='relu'))\n",
        "model.add(Dense(10,activation='softmax'))"
      ],
      "metadata": {
        "id": "6QFMM7sk0wic"
      },
      "execution_count": 75,
      "outputs": []
    },
    {
      "cell_type": "code",
      "source": [
        "model.compile(loss='categorical_crossentropy',optimizer = 'adam',metrics = ['accuracy'])"
      ],
      "metadata": {
        "id": "f_vLyxis0527"
      },
      "execution_count": 76,
      "outputs": []
    },
    {
      "cell_type": "code",
      "source": [
        "model.summary()"
      ],
      "metadata": {
        "colab": {
          "base_uri": "https://localhost:8080/"
        },
        "id": "Hu7VT7P92QNv",
        "outputId": "7e461f1b-c19d-4076-f807-46fdd32f3b30"
      },
      "execution_count": 77,
      "outputs": [
        {
          "output_type": "stream",
          "name": "stdout",
          "text": [
            "Model: \"sequential_3\"\n",
            "_________________________________________________________________\n",
            " Layer (type)                Output Shape              Param #   \n",
            "=================================================================\n",
            " conv2d_10 (Conv2D)          (None, 26, 26, 32)        320       \n",
            "                                                                 \n",
            " conv2d_11 (Conv2D)          (None, 24, 24, 32)        9248      \n",
            "                                                                 \n",
            " flatten_3 (Flatten)         (None, 18432)             0         \n",
            "                                                                 \n",
            " dense_5 (Dense)             (None, 50)                921650    \n",
            "                                                                 \n",
            " dense_6 (Dense)             (None, 10)                510       \n",
            "                                                                 \n",
            "=================================================================\n",
            "Total params: 931,728\n",
            "Trainable params: 931,728\n",
            "Non-trainable params: 0\n",
            "_________________________________________________________________\n"
          ]
        }
      ]
    },
    {
      "cell_type": "code",
      "source": [
        "from keras.utils import np_utils\n",
        "y_train1 = np_utils.to_categorical(y_train,10)\n",
        "y_test1 = np_utils.to_categorical(y_test,10)"
      ],
      "metadata": {
        "id": "JWnAFRf6329S"
      },
      "execution_count": 78,
      "outputs": []
    },
    {
      "cell_type": "code",
      "source": [
        "history = model.fit(X_train, y_train1, epochs=20)"
      ],
      "metadata": {
        "colab": {
          "base_uri": "https://localhost:8080/"
        },
        "id": "o5mcUjpe2S2Q",
        "outputId": "a0bbf8e2-0bbf-435c-a140-f0131f743a24"
      },
      "execution_count": 81,
      "outputs": [
        {
          "output_type": "stream",
          "name": "stdout",
          "text": [
            "Epoch 1/20\n",
            "1500/1500 [==============================] - 105s 70ms/step - loss: 0.0266 - accuracy: 0.9915\n",
            "Epoch 2/20\n",
            "1500/1500 [==============================] - 103s 69ms/step - loss: 0.0157 - accuracy: 0.9950\n",
            "Epoch 3/20\n",
            "1500/1500 [==============================] - 103s 68ms/step - loss: 0.0108 - accuracy: 0.9965\n",
            "Epoch 4/20\n",
            "1500/1500 [==============================] - 100s 67ms/step - loss: 0.0073 - accuracy: 0.9972\n",
            "Epoch 5/20\n",
            "1500/1500 [==============================] - 98s 65ms/step - loss: 0.0059 - accuracy: 0.9980\n",
            "Epoch 6/20\n",
            "1500/1500 [==============================] - 99s 66ms/step - loss: 0.0056 - accuracy: 0.9981\n",
            "Epoch 7/20\n",
            "1500/1500 [==============================] - 101s 67ms/step - loss: 0.0044 - accuracy: 0.9985\n",
            "Epoch 8/20\n",
            "1500/1500 [==============================] - 101s 67ms/step - loss: 0.0029 - accuracy: 0.9990\n",
            "Epoch 9/20\n",
            "1500/1500 [==============================] - 101s 68ms/step - loss: 0.0025 - accuracy: 0.9991\n",
            "Epoch 10/20\n",
            "1500/1500 [==============================] - 101s 67ms/step - loss: 0.0017 - accuracy: 0.9995\n",
            "Epoch 11/20\n",
            "1500/1500 [==============================] - 100s 67ms/step - loss: 0.0026 - accuracy: 0.9992\n",
            "Epoch 12/20\n",
            "1500/1500 [==============================] - 100s 67ms/step - loss: 0.0026 - accuracy: 0.9993\n",
            "Epoch 13/20\n",
            "1500/1500 [==============================] - 100s 67ms/step - loss: 0.0026 - accuracy: 0.9991\n",
            "Epoch 14/20\n",
            "1500/1500 [==============================] - 101s 67ms/step - loss: 0.0012 - accuracy: 0.9997\n",
            "Epoch 15/20\n",
            "1500/1500 [==============================] - 102s 68ms/step - loss: 0.0028 - accuracy: 0.9994\n",
            "Epoch 16/20\n",
            "1500/1500 [==============================] - 101s 67ms/step - loss: 0.0014 - accuracy: 0.9995\n",
            "Epoch 17/20\n",
            "1500/1500 [==============================] - 103s 69ms/step - loss: 0.0024 - accuracy: 0.9992\n",
            "Epoch 18/20\n",
            "1500/1500 [==============================] - 103s 69ms/step - loss: 0.0025 - accuracy: 0.9994\n",
            "Epoch 19/20\n",
            "1500/1500 [==============================] - 103s 68ms/step - loss: 0.0011 - accuracy: 0.9997\n",
            "Epoch 20/20\n",
            "1500/1500 [==============================] - 101s 68ms/step - loss: 0.0011 - accuracy: 0.9996\n"
          ]
        }
      ]
    },
    {
      "cell_type": "code",
      "source": [
        "loss, accuracy = model.evaluate(X_test, y_test1)"
      ],
      "metadata": {
        "colab": {
          "base_uri": "https://localhost:8080/"
        },
        "id": "Fnh6f1HE39Au",
        "outputId": "2efb7189-d821-4338-fb09-1e78112b90c4"
      },
      "execution_count": 83,
      "outputs": [
        {
          "output_type": "stream",
          "name": "stdout",
          "text": [
            "375/375 [==============================] - 7s 18ms/step - loss: 0.0470 - accuracy: 0.9934\n"
          ]
        }
      ]
    },
    {
      "cell_type": "markdown",
      "source": [
        "Add max pooling between sets of layers and dropout"
      ],
      "metadata": {
        "id": "m8QZ4-4wHn1A"
      }
    },
    {
      "cell_type": "code",
      "source": [
        "keras.backend.clear_session()\n",
        "model = keras.Sequential()\n",
        "model.add(InputLayer(X_train.shape[1:]))\n",
        "model.add(Conv2D(32, (3, 3), activation='relu'))\n",
        "model.add(keras.layers.MaxPooling2D(pool_size=2))\n",
        "model.add(Conv2D(32, (3, 3), activation='relu'))\n",
        "model.add(keras.layers.MaxPooling2D(pool_size=2))\n",
        "model.add(keras.layers.Dropout(0.25))\n",
        "model.add(Flatten())\n",
        "model.add(Dense(50,activation='relu'))\n",
        "model.add(Dense(10,activation='softmax'))"
      ],
      "metadata": {
        "id": "ssNTLy5QCTsD"
      },
      "execution_count": 84,
      "outputs": []
    },
    {
      "cell_type": "code",
      "source": [
        "model.compile(loss='categorical_crossentropy',optimizer = 'adam',metrics = ['accuracy'])"
      ],
      "metadata": {
        "id": "Vzu11xVwH1tY"
      },
      "execution_count": 86,
      "outputs": []
    },
    {
      "cell_type": "code",
      "source": [
        "model.summary()"
      ],
      "metadata": {
        "colab": {
          "base_uri": "https://localhost:8080/"
        },
        "id": "kL32_4YYH2bE",
        "outputId": "adfaaf75-64e9-412f-ce6f-a34de4f6533b"
      },
      "execution_count": 88,
      "outputs": [
        {
          "output_type": "stream",
          "name": "stdout",
          "text": [
            "Model: \"sequential\"\n",
            "_________________________________________________________________\n",
            " Layer (type)                Output Shape              Param #   \n",
            "=================================================================\n",
            " conv2d (Conv2D)             (None, 26, 26, 32)        320       \n",
            "                                                                 \n",
            " max_pooling2d (MaxPooling2D  (None, 13, 13, 32)       0         \n",
            " )                                                               \n",
            "                                                                 \n",
            " conv2d_1 (Conv2D)           (None, 11, 11, 32)        9248      \n",
            "                                                                 \n",
            " max_pooling2d_1 (MaxPooling  (None, 5, 5, 32)         0         \n",
            " 2D)                                                             \n",
            "                                                                 \n",
            " dropout (Dropout)           (None, 5, 5, 32)          0         \n",
            "                                                                 \n",
            " flatten (Flatten)           (None, 800)               0         \n",
            "                                                                 \n",
            " dense (Dense)               (None, 50)                40050     \n",
            "                                                                 \n",
            " dense_1 (Dense)             (None, 10)                510       \n",
            "                                                                 \n",
            "=================================================================\n",
            "Total params: 50,128\n",
            "Trainable params: 50,128\n",
            "Non-trainable params: 0\n",
            "_________________________________________________________________\n"
          ]
        }
      ]
    },
    {
      "cell_type": "code",
      "source": [
        "history = model.fit(X_train, y_train1, epochs=1)"
      ],
      "metadata": {
        "colab": {
          "base_uri": "https://localhost:8080/"
        },
        "id": "sLozCBidH4U9",
        "outputId": "087700d2-c5e2-4469-fc4b-18aa55d9373f"
      },
      "execution_count": 90,
      "outputs": [
        {
          "output_type": "stream",
          "name": "stdout",
          "text": [
            "1500/1500 [==============================] - 48s 32ms/step - loss: 0.0951 - accuracy: 0.9711\n"
          ]
        }
      ]
    },
    {
      "cell_type": "code",
      "source": [
        "loss, accuracy = model.evaluate(X_test, y_test1)"
      ],
      "metadata": {
        "colab": {
          "base_uri": "https://localhost:8080/"
        },
        "id": "g89MKi-oH9sj",
        "outputId": "0e44c198-c6f0-4c58-accf-445762aa68c7"
      },
      "execution_count": 91,
      "outputs": [
        {
          "output_type": "stream",
          "name": "stdout",
          "text": [
            "375/375 [==============================] - 4s 10ms/step - loss: 0.0454 - accuracy: 0.9868\n"
          ]
        }
      ]
    },
    {
      "cell_type": "code",
      "source": [
        "keras.backend.clear_session()\n",
        "model = keras.Sequential()\n",
        "model.add(InputLayer(X_train.shape[1:]))\n",
        "model.add(Conv2D(64, (3, 3), activation='relu'))\n",
        "model.add(keras.layers.MaxPooling2D(pool_size=2))\n",
        "model.add(Conv2D(32, (3, 3), activation='relu'))\n",
        "model.add(keras.layers.MaxPooling2D(pool_size=2))\n",
        "model.add(keras.layers.Dropout(0.25))\n",
        "model.add(Flatten())\n",
        "model.add(Dense(50,activation='relu'))\n",
        "model.add(Dense(10,activation='softmax'))"
      ],
      "metadata": {
        "id": "p9MWYKc-IcaP"
      },
      "execution_count": 92,
      "outputs": []
    },
    {
      "cell_type": "code",
      "source": [
        "model.compile(loss='categorical_crossentropy',optimizer = 'adam',metrics = ['accuracy'])"
      ],
      "metadata": {
        "id": "vRDKZQOGIdx5"
      },
      "execution_count": 93,
      "outputs": []
    },
    {
      "cell_type": "code",
      "source": [
        "model.summary()"
      ],
      "metadata": {
        "colab": {
          "base_uri": "https://localhost:8080/"
        },
        "id": "o7MpJrONIfnF",
        "outputId": "d24e9721-beb5-4dbd-fdba-21e7b9127d55"
      },
      "execution_count": 94,
      "outputs": [
        {
          "output_type": "stream",
          "name": "stdout",
          "text": [
            "Model: \"sequential\"\n",
            "_________________________________________________________________\n",
            " Layer (type)                Output Shape              Param #   \n",
            "=================================================================\n",
            " conv2d (Conv2D)             (None, 26, 26, 64)        640       \n",
            "                                                                 \n",
            " max_pooling2d (MaxPooling2D  (None, 13, 13, 64)       0         \n",
            " )                                                               \n",
            "                                                                 \n",
            " conv2d_1 (Conv2D)           (None, 11, 11, 32)        18464     \n",
            "                                                                 \n",
            " max_pooling2d_1 (MaxPooling  (None, 5, 5, 32)         0         \n",
            " 2D)                                                             \n",
            "                                                                 \n",
            " dropout (Dropout)           (None, 5, 5, 32)          0         \n",
            "                                                                 \n",
            " flatten (Flatten)           (None, 800)               0         \n",
            "                                                                 \n",
            " dense (Dense)               (None, 50)                40050     \n",
            "                                                                 \n",
            " dense_1 (Dense)             (None, 10)                510       \n",
            "                                                                 \n",
            "=================================================================\n",
            "Total params: 59,664\n",
            "Trainable params: 59,664\n",
            "Non-trainable params: 0\n",
            "_________________________________________________________________\n"
          ]
        }
      ]
    },
    {
      "cell_type": "code",
      "source": [
        "history = model.fit(X_train, y_train1, epochs=1)"
      ],
      "metadata": {
        "colab": {
          "base_uri": "https://localhost:8080/"
        },
        "id": "Z6_-Pg-nIgDc",
        "outputId": "6bf34513-3b34-4ac1-d6fb-58f797a3e140"
      },
      "execution_count": 95,
      "outputs": [
        {
          "output_type": "stream",
          "name": "stdout",
          "text": [
            "1500/1500 [==============================] - 71s 46ms/step - loss: 0.1461 - accuracy: 0.9535\n"
          ]
        }
      ]
    },
    {
      "cell_type": "code",
      "source": [
        "loss, accuracy = model.evaluate(X_test, y_test1)"
      ],
      "metadata": {
        "colab": {
          "base_uri": "https://localhost:8080/"
        },
        "id": "dDPQcqmxIhSq",
        "outputId": "964b44af-3745-44e6-d6f1-e9d94fcf6fc4"
      },
      "execution_count": 96,
      "outputs": [
        {
          "output_type": "stream",
          "name": "stdout",
          "text": [
            "375/375 [==============================] - 6s 15ms/step - loss: 0.0417 - accuracy: 0.9880\n"
          ]
        }
      ]
    }
  ]
}